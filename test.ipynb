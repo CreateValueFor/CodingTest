{
 "cells": [
  {
   "cell_type": "code",
   "execution_count": null,
   "metadata": {},
   "outputs": [],
   "source": [
    "class Stack:\n",
    "    # 리스트를 이용하여 스택 생성\n",
    "    def __init__(self):\n",
    "        self.top = []\n",
    "    #스택의 크기를 출력\n",
    "    def __len__(self):\n",
    "        return len(self.top)\n",
    "    #스택 내부 자료를 string 으로 변환하여 반환\n",
    "    def __str__(self):\n",
    "        return str(self.top[::1])\n",
    "    \n",
    "    def push (self, item):\n",
    "        self.top.append(item)\n",
    "    \n",
    "    def pop(self):\n",
    "        #if Stack is not empty\n",
    "        if not self.isEmpty():\n",
    "            return self.top.pop(-1)\n",
    "        else:\n",
    "            print(\"Stack underflow\")\n",
    "            exit()\n",
    "    \n",
    "    def clear(self):\n",
    "        self.top = []\n",
    "    #자료가 포함되어 있는지 여부 반환\n",
    "    def isContain(self, item):\n",
    "        return item in self.top\n",
    "    \n",
    "    #스택에서 top의 값을 읽어온다.\n",
    "    def peek(self):\n",
    "        if not self.isEmpty():\n",
    "            return self.top[-1]\n",
    "        else:\n",
    "            print(\"Underflow\")\n",
    "            exit()\n",
    "    \n",
    "    def isEmpty(self):\n",
    "        return len(self.top) == 0\n",
    "    \n",
    "    def size(self):\n",
    "        return len(self.top)\n",
    "\n",
    "num = input()\n",
    "\n",
    "for i in range(int(num)):\n",
    "    test = input()\n",
    "    for words in test.split():\n",
    "        tmp = Stack()\n",
    "        tmp.push(words)\n",
    "    temp = \"\"\n",
    "    for words in range(len(test.split)):\n",
    "        temp += tmp.pop()\n",
    "    print(\"Case #{}: {}\".format(i, temp))"
   ]
  },
  {
   "cell_type": "code",
   "execution_count": 1,
   "metadata": {},
   "outputs": [
    {
     "name": "stdout",
     "output_type": "stream",
     "text": [
      "3\n",
      "test a is this\n"
     ]
    },
    {
     "ename": "NameError",
     "evalue": "name 'Stack' is not defined",
     "output_type": "error",
     "traceback": [
      "\u001b[1;31m---------------------------------------------------------------------------\u001b[0m",
      "\u001b[1;31mNameError\u001b[0m                                 Traceback (most recent call last)",
      "\u001b[1;32m<ipython-input-1-b8621337958e>\u001b[0m in \u001b[0;36m<module>\u001b[1;34m\u001b[0m\n\u001b[0;32m      4\u001b[0m     \u001b[0mtest\u001b[0m \u001b[1;33m=\u001b[0m \u001b[0minput\u001b[0m\u001b[1;33m(\u001b[0m\u001b[1;33m)\u001b[0m\u001b[1;33m\u001b[0m\u001b[1;33m\u001b[0m\u001b[0m\n\u001b[0;32m      5\u001b[0m     \u001b[1;32mfor\u001b[0m \u001b[0mwords\u001b[0m \u001b[1;32min\u001b[0m \u001b[0mtest\u001b[0m\u001b[1;33m.\u001b[0m\u001b[0msplit\u001b[0m\u001b[1;33m(\u001b[0m\u001b[1;33m)\u001b[0m\u001b[1;33m:\u001b[0m\u001b[1;33m\u001b[0m\u001b[1;33m\u001b[0m\u001b[0m\n\u001b[1;32m----> 6\u001b[1;33m         \u001b[0mtmp\u001b[0m \u001b[1;33m=\u001b[0m \u001b[0mStack\u001b[0m\u001b[1;33m(\u001b[0m\u001b[1;33m)\u001b[0m\u001b[1;33m\u001b[0m\u001b[1;33m\u001b[0m\u001b[0m\n\u001b[0m\u001b[0;32m      7\u001b[0m         \u001b[0mtmp\u001b[0m\u001b[1;33m.\u001b[0m\u001b[0mpush\u001b[0m\u001b[1;33m(\u001b[0m\u001b[0mwords\u001b[0m\u001b[1;33m)\u001b[0m\u001b[1;33m\u001b[0m\u001b[1;33m\u001b[0m\u001b[0m\n\u001b[0;32m      8\u001b[0m     \u001b[0mtemp\u001b[0m \u001b[1;33m=\u001b[0m \u001b[1;34m\"\"\u001b[0m\u001b[1;33m\u001b[0m\u001b[1;33m\u001b[0m\u001b[0m\n",
      "\u001b[1;31mNameError\u001b[0m: name 'Stack' is not defined"
     ]
    }
   ],
   "source": [
    "num = input()\n",
    "\n",
    "for i in range(int(num)):\n",
    "    test = input()\n",
    "    for words in test.split():\n",
    "        tmp = Stack()\n",
    "        tmp.push(words)\n",
    "    temp = \"\"\n",
    "    for words in range(len(test.split)):\n",
    "        temp += tmp.pop()\n",
    "    print(\"Case #{}: {}\".format(i, temp))"
   ]
  },
  {
   "cell_type": "code",
   "execution_count": null,
   "metadata": {},
   "outputs": [],
   "source": []
  }
 ],
 "metadata": {
  "kernelspec": {
   "display_name": "Python 3",
   "language": "python",
   "name": "python3"
  },
  "language_info": {
   "codemirror_mode": {
    "name": "ipython",
    "version": 3
   },
   "file_extension": ".py",
   "mimetype": "text/x-python",
   "name": "python",
   "nbconvert_exporter": "python",
   "pygments_lexer": "ipython3",
   "version": "3.7.6"
  }
 },
 "nbformat": 4,
 "nbformat_minor": 4
}
